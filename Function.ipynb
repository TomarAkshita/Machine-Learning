{
  "nbformat": 4,
  "nbformat_minor": 0,
  "metadata": {
    "colab": {
      "provenance": [],
      "authorship_tag": "ABX9TyN14aixHs1OgYRliItVTTGX",
      "include_colab_link": true
    },
    "kernelspec": {
      "name": "python3",
      "display_name": "Python 3"
    },
    "language_info": {
      "name": "python"
    }
  },
  "cells": [
    {
      "cell_type": "markdown",
      "metadata": {
        "id": "view-in-github",
        "colab_type": "text"
      },
      "source": [
        "<a href=\"https://colab.research.google.com/github/Akshiiiita/Machine-Learning/blob/main/Function.ipynb\" target=\"_parent\"><img src=\"https://colab.research.google.com/assets/colab-badge.svg\" alt=\"Open In Colab\"/></a>"
      ]
    },
    {
      "cell_type": "markdown",
      "source": [
        "Function is a block of code that can be reused in program"
      ],
      "metadata": {
        "id": "pLqCDKwVNkye"
      }
    },
    {
      "cell_type": "markdown",
      "source": [
        "Factorial of a number"
      ],
      "metadata": {
        "id": "dqNZZNY4OUwc"
      }
    },
    {
      "cell_type": "code",
      "execution_count": 4,
      "metadata": {
        "colab": {
          "base_uri": "https://localhost:8080/"
        },
        "id": "ydTRBPlFNcSB",
        "outputId": "1158dfc2-3eff-40bd-900e-465bab4f784e"
      },
      "outputs": [
        {
          "output_type": "stream",
          "name": "stdout",
          "text": [
            "Enter a number to find the factorial5\n",
            "The factorial of  5 is:  120\n"
          ]
        }
      ],
      "source": [
        "number = int(input(\"Enter a number to find the factorial\"))\n",
        "factorial = 1\n",
        "\n",
        "if(number == 0):\n",
        "  print(\"The factorial of 0 is: 1\")\n",
        "else:\n",
        "  for i in range(1,number+1):\n",
        "    factorial=factorial*i\n",
        "  print(\"The factorial of \",number,\"is: \",factorial)"
      ]
    },
    {
      "cell_type": "code",
      "source": [
        "number = int(input(\"Enter a number to find the factorial\"))\n",
        "\n",
        "def factorial_value(number):\n",
        "  fact = 1\n",
        "  if (number==0):\n",
        "    return fact\n",
        "  else:\n",
        "    for i in range(1,number+1):\n",
        "      fact=fact*i\n",
        "    return fact\n",
        "\n",
        "result = factorial_value(number)\n",
        "print(\"The factorial of\",number,\"is:\",result)"
      ],
      "metadata": {
        "colab": {
          "base_uri": "https://localhost:8080/"
        },
        "id": "VEIuMKPNQNhh",
        "outputId": "20ec8b70-2b14-4e77-d11b-af723295902e"
      },
      "execution_count": 6,
      "outputs": [
        {
          "output_type": "stream",
          "name": "stdout",
          "text": [
            "Enter a number to find the factorial7\n",
            "The factorial of 7 is: 5040\n"
          ]
        }
      ]
    },
    {
      "cell_type": "code",
      "source": [
        "print(factorial_value(10))"
      ],
      "metadata": {
        "colab": {
          "base_uri": "https://localhost:8080/"
        },
        "id": "a89c6lTaRfEj",
        "outputId": "f89d9659-a118-4588-a608-1d8d29b3268e"
      },
      "execution_count": 7,
      "outputs": [
        {
          "output_type": "stream",
          "name": "stdout",
          "text": [
            "3628800\n"
          ]
        }
      ]
    },
    {
      "cell_type": "code",
      "source": [
        "print(\"The factorial of 20 is:\",factorial_value(20))"
      ],
      "metadata": {
        "colab": {
          "base_uri": "https://localhost:8080/"
        },
        "id": "JZ_84erkRlpj",
        "outputId": "bcff2442-a044-410b-f2d5-1b27e92ae14d"
      },
      "execution_count": 8,
      "outputs": [
        {
          "output_type": "stream",
          "name": "stdout",
          "text": [
            "The factorial of 20 is: 2432902008176640000\n"
          ]
        }
      ]
    }
  ]
}