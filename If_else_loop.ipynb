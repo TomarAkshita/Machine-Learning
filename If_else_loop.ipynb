{
  "nbformat": 4,
  "nbformat_minor": 0,
  "metadata": {
    "colab": {
      "provenance": [],
      "authorship_tag": "ABX9TyMrX71aFb39jq/0vcrQqk70",
      "include_colab_link": true
    },
    "kernelspec": {
      "name": "python3",
      "display_name": "Python 3"
    },
    "language_info": {
      "name": "python"
    }
  },
  "cells": [
    {
      "cell_type": "markdown",
      "metadata": {
        "id": "view-in-github",
        "colab_type": "text"
      },
      "source": [
        "<a href=\"https://colab.research.google.com/github/Akshiiiita/Machine-Learning/blob/main/If_else_loop.ipynb\" target=\"_parent\"><img src=\"https://colab.research.google.com/assets/colab-badge.svg\" alt=\"Open In Colab\"/></a>"
      ]
    },
    {
      "cell_type": "markdown",
      "source": [
        "#if else(condition statement)"
      ],
      "metadata": {
        "id": "6G-Fx1_CKw5j"
      }
    },
    {
      "cell_type": "markdown",
      "source": [
        "Simple if else statement"
      ],
      "metadata": {
        "id": "yURLbLz8INPZ"
      }
    },
    {
      "cell_type": "code",
      "execution_count": 1,
      "metadata": {
        "colab": {
          "base_uri": "https://localhost:8080/"
        },
        "id": "uKyurmWUH9X8",
        "outputId": "0283f452-1acf-4b92-aff0-24be1d8018f2"
      },
      "outputs": [
        {
          "output_type": "stream",
          "name": "stdout",
          "text": [
            "b is the greatest number\n"
          ]
        }
      ],
      "source": [
        "a = 30\n",
        "b = 50\n",
        "if(a>b):\n",
        "  print(\"a is the greatest number\")\n",
        "else:\n",
        "  print(\"b is the greatest number\")"
      ]
    },
    {
      "cell_type": "code",
      "source": [
        "a = int(input(\"Enter the first number\"))\n",
        "b = int(input(\"Enter the second number\"))\n",
        "if(a>b):\n",
        "  print(\"a is the greatest number\")\n",
        "else:\n",
        "  print(\"b is the greatest number\")"
      ],
      "metadata": {
        "colab": {
          "base_uri": "https://localhost:8080/"
        },
        "id": "b05c2wcjIfmx",
        "outputId": "b2e4c1c3-ffb6-41e0-a26c-670dcae6cb2b"
      },
      "execution_count": 2,
      "outputs": [
        {
          "output_type": "stream",
          "name": "stdout",
          "text": [
            "Enter the first number40\n",
            "Enter the second number20\n",
            "a is the greatest number\n"
          ]
        }
      ]
    },
    {
      "cell_type": "markdown",
      "source": [
        "if elif else statement"
      ],
      "metadata": {
        "id": "2pfA-exxI_7e"
      }
    },
    {
      "cell_type": "code",
      "source": [
        "a = 20\n",
        "b = 49\n",
        "c = 30\n",
        "if(b<a>c):\n",
        "  print(\"a is the greater number\")\n",
        "elif(a<b>c):\n",
        "  print(\"b is the greater number\")\n",
        "else:\n",
        "  print(\"c is the greater number\")"
      ],
      "metadata": {
        "colab": {
          "base_uri": "https://localhost:8080/"
        },
        "id": "bIXGJWDiI--N",
        "outputId": "e0ef9a10-1605-4d1f-bc86-64d5b3242430"
      },
      "execution_count": 3,
      "outputs": [
        {
          "output_type": "stream",
          "name": "stdout",
          "text": [
            "b is the greater number\n"
          ]
        }
      ]
    },
    {
      "cell_type": "markdown",
      "source": [
        "nested if statement"
      ],
      "metadata": {
        "id": "ztV4qRvtJply"
      }
    },
    {
      "cell_type": "code",
      "source": [
        "a = 20\n",
        "b = 30\n",
        "c = 50\n",
        "if(a>b):\n",
        "  if(a>c):\n",
        "    print(\"a is greater number\")\n",
        "  else:\n",
        "    print(\"c is greater number\")\n",
        "else:\n",
        "  if(b>c):\n",
        "    print(\"b is the greater number\")\n",
        "  else:\n",
        "    print(\"c is the greater number\")"
      ],
      "metadata": {
        "colab": {
          "base_uri": "https://localhost:8080/"
        },
        "id": "qPLkJ8-DJoyb",
        "outputId": "9f3cb9ff-8bb2-4076-a679-5059f155c577"
      },
      "execution_count": 4,
      "outputs": [
        {
          "output_type": "stream",
          "name": "stdout",
          "text": [
            "c is the greater number\n"
          ]
        }
      ]
    },
    {
      "cell_type": "markdown",
      "source": [
        "#Loop statement"
      ],
      "metadata": {
        "id": "WCkWB4dnLya4"
      }
    },
    {
      "cell_type": "markdown",
      "source": [
        "for loop"
      ],
      "metadata": {
        "id": "SOk1Ou6qL_cL"
      }
    },
    {
      "cell_type": "code",
      "source": [
        "laptop1 = int(input(\"Enter the price of laptop: \"))\n",
        "laptop2 = int(input(\"Enter the price of laptop: \"))\n",
        "laptop3 = int(input(\"Enter the price of laptop: \"))\n",
        "laptop4 = int(input(\"Enter the price of laptop: \"))\n",
        "laptop5 = int(input(\"Enter the price of laptop: \"))"
      ],
      "metadata": {
        "colab": {
          "base_uri": "https://localhost:8080/"
        },
        "id": "Yjt9XADSLxcL",
        "outputId": "67a850f0-b772-4af3-f5f8-8c4a5f52c48c"
      },
      "execution_count": 5,
      "outputs": [
        {
          "name": "stdout",
          "output_type": "stream",
          "text": [
            "Enter the price of laptop: 10000\n",
            "Enter the price of laptop: 20000\n",
            "Enter the price of laptop: 24000\n",
            "Enter the price of laptop: 45000\n",
            "Enter the price of laptop: 55000\n"
          ]
        }
      ]
    },
    {
      "cell_type": "code",
      "source": [
        "for i in range(5): #0,1,2,3,4\n",
        "  laptop_price = int(input(\"Enter the price of laptop: \"))"
      ],
      "metadata": {
        "colab": {
          "base_uri": "https://localhost:8080/"
        },
        "id": "kh0y3vz-MhY1",
        "outputId": "5b58ca49-6b21-4829-91e4-75be81325f1d"
      },
      "execution_count": 6,
      "outputs": [
        {
          "name": "stdout",
          "output_type": "stream",
          "text": [
            "Enter the price of laptop: 10000\n",
            "Enter the price of laptop: 200000\n",
            "Enter the price of laptop: 30000\n",
            "Enter the price of laptop: 40000\n",
            "Enter the price of laptop: 500000\n"
          ]
        }
      ]
    },
    {
      "cell_type": "code",
      "source": [
        "numbers = [50,60,70,80]\n",
        "for i in numbers:\n",
        "  print(i)"
      ],
      "metadata": {
        "colab": {
          "base_uri": "https://localhost:8080/"
        },
        "id": "h4u_N6v2M5Bc",
        "outputId": "20c9ab2c-5dd2-47ef-993e-baae4e4263b3"
      },
      "execution_count": 7,
      "outputs": [
        {
          "output_type": "stream",
          "name": "stdout",
          "text": [
            "50\n",
            "60\n",
            "70\n",
            "80\n"
          ]
        }
      ]
    },
    {
      "cell_type": "markdown",
      "source": [
        "while loop"
      ],
      "metadata": {
        "id": "HR0l0jkbN4sF"
      }
    },
    {
      "cell_type": "code",
      "source": [
        "i = 0\n",
        "while i<10:\n",
        "  print(i)\n",
        "  i +=1"
      ],
      "metadata": {
        "colab": {
          "base_uri": "https://localhost:8080/"
        },
        "id": "s1DwNoAGNqQQ",
        "outputId": "f4513d25-f790-4b96-8e78-bfe3a8d6b3ee"
      },
      "execution_count": 8,
      "outputs": [
        {
          "output_type": "stream",
          "name": "stdout",
          "text": [
            "0\n",
            "1\n",
            "2\n",
            "3\n",
            "4\n",
            "5\n",
            "6\n",
            "7\n",
            "8\n",
            "9\n"
          ]
        }
      ]
    },
    {
      "cell_type": "code",
      "source": [
        "i = 5\n",
        "while i<3:\n",
        "  print(i)\n",
        "  i += 1\n",
        "  # written nothing"
      ],
      "metadata": {
        "id": "vr9bwdC2PqO5"
      },
      "execution_count": 9,
      "outputs": []
    }
  ]
}